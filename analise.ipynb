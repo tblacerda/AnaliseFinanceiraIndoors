{
 "cells": [
  {
   "cell_type": "markdown",
   "metadata": {},
   "source": [
    "# **Como prever o Tráfego (e a receita) de sistemas indoor ?**\n",
    "\n",
    "* Utilizando dados da ABRASCE (Associação Brasileira de Shoppings Centeres), dados de Volume de trafego cursado na rede da TIM durante o mês de Novembro/23 nos shoppings que já temos sistema indoor instalado e o retorno R$ / MB de tráfego, estimamos qual seria o retorno em novos projetos.\n",
    "-----\n",
    " "
   ]
  },
  {
   "cell_type": "code",
   "execution_count": 87,
   "metadata": {},
   "outputs": [],
   "source": [
    "# Import modules we'll need for this notebook\n",
    "import pandas as pd\n",
    "import numpy as np\n",
    "from sklearn.linear_model import LinearRegression\n",
    "from sklearn.metrics import mean_squared_error, r2_score\n",
    "from sklearn.model_selection import train_test_split\n",
    "from sklearn.compose import ColumnTransformer\n",
    "from sklearn.pipeline import Pipeline\n",
    "from sklearn.preprocessing import StandardScaler, OneHotEncoder\n",
    "from sklearn.linear_model import LinearRegression\n",
    "from sklearn.ensemble import GradientBoostingRegressor\n",
    "from sklearn.ensemble import RandomForestRegressor  \n",
    "import matplotlib.pyplot as plt\n",
    "%matplotlib inline"
   ]
  },
  {
   "cell_type": "markdown",
   "metadata": {},
   "source": [
    "# **Features Utilizadas**\n",
    "---------\n"
   ]
  },
  {
   "cell_type": "code",
   "execution_count": 88,
   "metadata": {},
   "outputs": [
    {
     "data": {
      "text/plain": [
       "Index(['ID', 'A', 'B', 'C', 'D', 'ABL', 'Fluxo', 'LojasTotal', 'LojasAncora',\n",
       "       'LojasMega', 'ALIMENTAÇÃO', 'CINEMA', 'Pisos', 'Capital', 'Renda',\n",
       "       'MktShare', 'Volume'],\n",
       "      dtype='object')"
      ]
     },
     "execution_count": 88,
     "metadata": {},
     "output_type": "execute_result"
    }
   ],
   "source": [
    "data = pd.read_excel('entrada_existentes.xlsx')\n",
    "data.columns"
   ]
  },
  {
   "cell_type": "code",
   "execution_count": 89,
   "metadata": {},
   "outputs": [
    {
     "data": {
      "text/html": [
       "<div>\n",
       "<style scoped>\n",
       "    .dataframe tbody tr th:only-of-type {\n",
       "        vertical-align: middle;\n",
       "    }\n",
       "\n",
       "    .dataframe tbody tr th {\n",
       "        vertical-align: top;\n",
       "    }\n",
       "\n",
       "    .dataframe thead th {\n",
       "        text-align: right;\n",
       "    }\n",
       "</style>\n",
       "<table border=\"1\" class=\"dataframe\">\n",
       "  <thead>\n",
       "    <tr style=\"text-align: right;\">\n",
       "      <th></th>\n",
       "      <th>ID</th>\n",
       "      <th>A</th>\n",
       "      <th>B</th>\n",
       "      <th>C</th>\n",
       "      <th>D</th>\n",
       "      <th>ABL</th>\n",
       "      <th>Fluxo</th>\n",
       "      <th>LojasTotal</th>\n",
       "      <th>LojasAncora</th>\n",
       "      <th>LojasMega</th>\n",
       "      <th>ALIMENTAÇÃO</th>\n",
       "      <th>CINEMA</th>\n",
       "      <th>Pisos</th>\n",
       "      <th>Capital</th>\n",
       "      <th>Renda</th>\n",
       "      <th>MktShare</th>\n",
       "      <th>Volume</th>\n",
       "    </tr>\n",
       "  </thead>\n",
       "  <tbody>\n",
       "    <tr>\n",
       "      <th>36</th>\n",
       "      <td>62</td>\n",
       "      <td>1</td>\n",
       "      <td>12</td>\n",
       "      <td>41</td>\n",
       "      <td>46</td>\n",
       "      <td>14964.0</td>\n",
       "      <td>702737</td>\n",
       "      <td>70</td>\n",
       "      <td>7</td>\n",
       "      <td>4</td>\n",
       "      <td>6</td>\n",
       "      <td>0</td>\n",
       "      <td>1</td>\n",
       "      <td>0</td>\n",
       "      <td>725</td>\n",
       "      <td>20.16</td>\n",
       "      <td>7.427919</td>\n",
       "    </tr>\n",
       "    <tr>\n",
       "      <th>26</th>\n",
       "      <td>43</td>\n",
       "      <td>6</td>\n",
       "      <td>40</td>\n",
       "      <td>38</td>\n",
       "      <td>16</td>\n",
       "      <td>41039.0</td>\n",
       "      <td>762799</td>\n",
       "      <td>254</td>\n",
       "      <td>8</td>\n",
       "      <td>4</td>\n",
       "      <td>59</td>\n",
       "      <td>6</td>\n",
       "      <td>2</td>\n",
       "      <td>1</td>\n",
       "      <td>532</td>\n",
       "      <td>31.19</td>\n",
       "      <td>3.490818</td>\n",
       "    </tr>\n",
       "    <tr>\n",
       "      <th>28</th>\n",
       "      <td>50</td>\n",
       "      <td>10</td>\n",
       "      <td>35</td>\n",
       "      <td>40</td>\n",
       "      <td>15</td>\n",
       "      <td>30606.0</td>\n",
       "      <td>762799</td>\n",
       "      <td>158</td>\n",
       "      <td>7</td>\n",
       "      <td>3</td>\n",
       "      <td>23</td>\n",
       "      <td>6</td>\n",
       "      <td>2</td>\n",
       "      <td>0</td>\n",
       "      <td>401</td>\n",
       "      <td>71.96</td>\n",
       "      <td>7.321900</td>\n",
       "    </tr>\n",
       "    <tr>\n",
       "      <th>38</th>\n",
       "      <td>65</td>\n",
       "      <td>30</td>\n",
       "      <td>50</td>\n",
       "      <td>20</td>\n",
       "      <td>0</td>\n",
       "      <td>93000.0</td>\n",
       "      <td>1458913</td>\n",
       "      <td>410</td>\n",
       "      <td>23</td>\n",
       "      <td>20</td>\n",
       "      <td>42</td>\n",
       "      <td>10</td>\n",
       "      <td>4</td>\n",
       "      <td>1</td>\n",
       "      <td>2043</td>\n",
       "      <td>31.46</td>\n",
       "      <td>23.471431</td>\n",
       "    </tr>\n",
       "    <tr>\n",
       "      <th>8</th>\n",
       "      <td>10</td>\n",
       "      <td>24</td>\n",
       "      <td>50</td>\n",
       "      <td>24</td>\n",
       "      <td>2</td>\n",
       "      <td>60519.4</td>\n",
       "      <td>1458913</td>\n",
       "      <td>341</td>\n",
       "      <td>11</td>\n",
       "      <td>4</td>\n",
       "      <td>50</td>\n",
       "      <td>7</td>\n",
       "      <td>2</td>\n",
       "      <td>1</td>\n",
       "      <td>2180</td>\n",
       "      <td>29.87</td>\n",
       "      <td>10.319613</td>\n",
       "    </tr>\n",
       "  </tbody>\n",
       "</table>\n",
       "</div>"
      ],
      "text/plain": [
       "    ID   A   B   C   D      ABL    Fluxo  LojasTotal  LojasAncora  LojasMega  \\\n",
       "36  62   1  12  41  46  14964.0   702737          70            7          4   \n",
       "26  43   6  40  38  16  41039.0   762799         254            8          4   \n",
       "28  50  10  35  40  15  30606.0   762799         158            7          3   \n",
       "38  65  30  50  20   0  93000.0  1458913         410           23         20   \n",
       "8   10  24  50  24   2  60519.4  1458913         341           11          4   \n",
       "\n",
       "    ALIMENTAÇÃO  CINEMA  Pisos  Capital  Renda  MktShare     Volume  \n",
       "36            6       0      1        0    725     20.16   7.427919  \n",
       "26           59       6      2        1    532     31.19   3.490818  \n",
       "28           23       6      2        0    401     71.96   7.321900  \n",
       "38           42      10      4        1   2043     31.46  23.471431  \n",
       "8            50       7      2        1   2180     29.87  10.319613  "
      ]
     },
     "execution_count": 89,
     "metadata": {},
     "output_type": "execute_result"
    }
   ],
   "source": [
    "data.sample(5)"
   ]
  },
  {
   "cell_type": "code",
   "execution_count": 90,
   "metadata": {},
   "outputs": [
    {
     "name": "stdout",
     "output_type": "stream",
     "text": [
      "Training Set: 36 linhas\n",
      "Test Set: 9 linhas\n"
     ]
    }
   ],
   "source": [
    "numeric_features = ['A', 'B', 'C', 'D', 'ABL', 'Fluxo', 'LojasTotal', 'LojasAncora',\n",
    "                    'LojasMega', 'ALIMENTAÇÃO', 'CINEMA', 'Pisos', 'Capital', 'Renda',\n",
    "                'MktShare', 'Volume']\n",
    "data.describe()\n",
    "\n",
    "# After separating the dataset, we now have numpy arrays named **X** containing the features, and **y** containing the labels.\n",
    "X, y = data[numeric_features].values, data['Volume'].values\n",
    "\n",
    "# Split data 70%-30% into training set and test set\n",
    "X_train, X_test, y_train, y_test = train_test_split(X, y, test_size=0.20, random_state=0)\n",
    "\n",
    "print ('Training Set: %d linhas\\nTest Set: %d linhas' % (X_train.shape[0], X_test.shape[0]))"
   ]
  },
  {
   "cell_type": "markdown",
   "metadata": {},
   "source": [
    "## **Treinar modelo**\n",
    "------\n",
    "\n",
    "## Experiment with Algorithms\n",
    "\n",
    "The linear-regression algorithm we used last time to train the model has some predictive capability, but there are many kinds of regression algorithm we could try, including:\n",
    "\n",
    "- **Linear algorithms**: Not just the Linear Regression algorithm we used above (which is technically an *Ordinary Least Squares* algorithm), but other variants such as *Lasso* and *Ridge*.\n",
    "- **Tree-based algorithms**: Algorithms that build a decision tree to reach a prediction.\n",
    "- **Ensemble algorithms**: Algorithms that combine the outputs of multiple base algorithms to improve generalizability.\n"
   ]
  },
  {
   "cell_type": "code",
   "execution_count": 93,
   "metadata": {},
   "outputs": [
    {
     "name": "stdout",
     "output_type": "stream",
     "text": [
      "Pipeline(steps=[('preprocessor',\n",
      "                 ColumnTransformer(transformers=[('num',\n",
      "                                                  Pipeline(steps=[('scaler',\n",
      "                                                                   StandardScaler())]),\n",
      "                                                  [1, 2, 3, 4, 5, 6, 7, 8, 9,\n",
      "                                                   10, 11, 12, 13, 14, 15])])),\n",
      "                ('regressor', RandomForestRegressor())])\n"
     ]
    }
   ],
   "source": [
    "# Escalar  \n",
    "numeric_features = [1,2,3,4,5,6,7,8,9,10,11,12,13,14,15]\n",
    "numeric_transformer = Pipeline(steps=[\n",
    "    ('scaler', StandardScaler())])\n",
    "\n",
    "\n",
    "# passos\n",
    "preprocessor = ColumnTransformer(\n",
    "    transformers=[\n",
    "        ('num', numeric_transformer, numeric_features)])\n",
    "\n",
    "# Criar pipeline\n",
    "pipeline = Pipeline(steps=[('preprocessor', preprocessor),\n",
    "                          # ('regressor', GradientBoostingRegressor())])\n",
    "                           ('regressor', RandomForestRegressor())])\n",
    "\n",
    "# fit \n",
    "model = pipeline.fit(X_train, (y_train))\n",
    "print (model)"
   ]
  },
  {
   "cell_type": "code",
   "execution_count": 94,
   "metadata": {},
   "outputs": [
    {
     "name": "stdout",
     "output_type": "stream",
     "text": [
      "MSE: 0.7507709224467012\n",
      "RMSE: 0.8664703817481018\n",
      "R2: 0.9814908392384509\n"
     ]
    },
    {
     "data": {
      "image/png": "[encoded data removed]",
      "text/plain": [
       "<Figure size 640x480 with 1 Axes>"
      ]
     },
     "metadata": {},
     "output_type": "display_data"
    }
   ],
   "source": [
    "# predicoes\n",
    "predictions = model.predict(X_test)\n",
    "\n",
    "# metricas\n",
    "mse = mean_squared_error(y_test, predictions)\n",
    "print(\"MSE:\", mse)\n",
    "rmse = np.sqrt(mse)\n",
    "print(\"RMSE:\", rmse)\n",
    "r2 = r2_score(y_test, predictions)\n",
    "print(\"R2:\", r2)\n",
    "\n",
    "# Plot predicted vs actual\n",
    "plt.scatter(y_test, predictions)\n",
    "plt.xlabel('Volume TB - Real')\n",
    "plt.ylabel('Volume TB - Previsto')\n",
    "plt.title('Predição de Volume (Tb)')\n",
    "z = np.polyfit(y_test, predictions, 1)\n",
    "p = np.poly1d(z)\n",
    "plt.plot(y_test,p(y_test), color='magenta')\n",
    "plt.show()"
   ]
  },
  {
   "cell_type": "code",
   "execution_count": 95,
   "metadata": {},
   "outputs": [
    {
     "data": {
      "text/plain": [
       "array([10.77425063,  9.58132558,  2.8291252 ,  6.26507851,  6.10361862,\n",
       "       10.72909595,  7.4027296 , 18.32289386, 24.58492692])"
      ]
     },
     "execution_count": 95,
     "metadata": {},
     "output_type": "execute_result"
    }
   ],
   "source": [
    "predictions"
   ]
  },
  {
   "cell_type": "markdown",
   "metadata": {},
   "source": [
    "* **Erro Quadrático Médio (MSE - Mean Squared Error):** É a média dos quadrados dos erros. Quanto menor o valor, melhor o modelo. O valor mínimo é 0, indicando que o modelo prevê perfeitamente os valores reais. Não há um valor máximo definido.\n",
    "MSE=n1​i=1∑n​(yi​−y^​i​)2\n",
    "\n",
    "\n",
    "* **Raiz do Erro Quadrático Médio (RMSE - Root Mean Squared Error):** É a raiz quadrada do MSE. Assim como o MSE, quanto menor o valor, melhor o modelo. O valor mínimo é 0, indicando que o modelo prevê perfeitamente os valores reais. Não há um valor máximo definido.\n",
    "RMSE=MSE​=n1​i=1∑n​(yi​−y^​i​)2​\n",
    "\n",
    "\n",
    "* **Coeficiente de Determinação (R²):** É uma medida estatística que indica a proporção da variância na variável dependente que é previsível a partir da(s) variável(is) independente(s). O valor máximo é 1, indicando que o modelo explica toda a variabilidade dos dados de resposta em torno de sua média. O valor mínimo pode ser negativo se o modelo for completamente inapropriado.\n",
    "R2=1−MSEbaseline​MSEmodelo​​"
   ]
  },
  {
   "cell_type": "code",
   "execution_count": 96,
   "metadata": {},
   "outputs": [
    {
     "data": {
      "text/plain": [
       "['./model.pkl']"
      ]
     },
     "execution_count": 96,
     "metadata": {},
     "output_type": "execute_result"
    }
   ],
   "source": [
    "import joblib\n",
    "\n",
    "# Save the model as a pickle file\n",
    "filename = './model.pkl'\n",
    "joblib.dump(model, filename)"
   ]
  },
  {
   "cell_type": "markdown",
   "metadata": {},
   "source": [
    "### Treinando o modelo com todos os dados\n",
    "------"
   ]
  },
  {
   "cell_type": "code",
   "execution_count": 97,
   "metadata": {},
   "outputs": [
    {
     "name": "stdout",
     "output_type": "stream",
     "text": [
      "Pipeline(steps=[('preprocessor',\n",
      "                 ColumnTransformer(transformers=[('num',\n",
      "                                                  Pipeline(steps=[('scaler',\n",
      "                                                                   StandardScaler())]),\n",
      "                                                  [1, 2, 3, 4, 5, 6, 7, 8, 9,\n",
      "                                                   10, 11, 12, 13, 14, 15])])),\n",
      "                ('regressor', RandomForestRegressor())])\n"
     ]
    }
   ],
   "source": [
    "# fit \n",
    "model = pipeline.fit(X, (y))\n",
    "print (model)"
   ]
  },
  {
   "cell_type": "markdown",
   "metadata": {},
   "source": [
    "## **Estimando novos Shoppings**\n",
    "-----"
   ]
  },
  {
   "cell_type": "code",
   "execution_count": 106,
   "metadata": {},
   "outputs": [
    {
     "data": {
      "text/html": [
       "<div>\n",
       "<style scoped>\n",
       "    .dataframe tbody tr th:only-of-type {\n",
       "        vertical-align: middle;\n",
       "    }\n",
       "\n",
       "    .dataframe tbody tr th {\n",
       "        vertical-align: top;\n",
       "    }\n",
       "\n",
       "    .dataframe thead th {\n",
       "        text-align: right;\n",
       "    }\n",
       "</style>\n",
       "<table border=\"1\" class=\"dataframe\">\n",
       "  <thead>\n",
       "    <tr style=\"text-align: right;\">\n",
       "      <th></th>\n",
       "      <th>ID</th>\n",
       "      <th>A</th>\n",
       "      <th>B</th>\n",
       "      <th>C</th>\n",
       "      <th>D</th>\n",
       "      <th>ABL</th>\n",
       "      <th>Fluxo</th>\n",
       "      <th>LojasTotal</th>\n",
       "      <th>LojasAncora</th>\n",
       "      <th>LojasMega</th>\n",
       "      <th>ALIMENTAÇÃO</th>\n",
       "      <th>CINEMA</th>\n",
       "      <th>Pisos</th>\n",
       "      <th>Capital</th>\n",
       "      <th>Renda</th>\n",
       "      <th>MktShare</th>\n",
       "    </tr>\n",
       "  </thead>\n",
       "  <tbody>\n",
       "    <tr>\n",
       "      <th>0</th>\n",
       "      <td>Iguatemi Fortaleza</td>\n",
       "      <td>20</td>\n",
       "      <td>50</td>\n",
       "      <td>15</td>\n",
       "      <td>15</td>\n",
       "      <td>93000.00</td>\n",
       "      <td>1458913</td>\n",
       "      <td>429</td>\n",
       "      <td>15</td>\n",
       "      <td>16</td>\n",
       "      <td>60</td>\n",
       "      <td>12</td>\n",
       "      <td>4</td>\n",
       "      <td>1</td>\n",
       "      <td>1664</td>\n",
       "      <td>31.46</td>\n",
       "    </tr>\n",
       "    <tr>\n",
       "      <th>1</th>\n",
       "      <td>River Petrolina</td>\n",
       "      <td>5</td>\n",
       "      <td>50</td>\n",
       "      <td>40</td>\n",
       "      <td>5</td>\n",
       "      <td>27293.32</td>\n",
       "      <td>702737</td>\n",
       "      <td>70</td>\n",
       "      <td>6</td>\n",
       "      <td>1</td>\n",
       "      <td>18</td>\n",
       "      <td>4</td>\n",
       "      <td>1</td>\n",
       "      <td>0</td>\n",
       "      <td>1100</td>\n",
       "      <td>23.61</td>\n",
       "    </tr>\n",
       "    <tr>\n",
       "      <th>2</th>\n",
       "      <td>RioMar Recife</td>\n",
       "      <td>35</td>\n",
       "      <td>39</td>\n",
       "      <td>26</td>\n",
       "      <td>0</td>\n",
       "      <td>103000.00</td>\n",
       "      <td>1458913</td>\n",
       "      <td>380</td>\n",
       "      <td>17</td>\n",
       "      <td>15</td>\n",
       "      <td>60</td>\n",
       "      <td>9</td>\n",
       "      <td>3</td>\n",
       "      <td>1</td>\n",
       "      <td>867</td>\n",
       "      <td>25.50</td>\n",
       "    </tr>\n",
       "  </tbody>\n",
       "</table>\n",
       "</div>"
      ],
      "text/plain": [
       "                   ID   A   B   C   D        ABL    Fluxo  LojasTotal  \\\n",
       "0  Iguatemi Fortaleza  20  50  15  15   93000.00  1458913         429   \n",
       "1     River Petrolina   5  50  40   5   27293.32   702737          70   \n",
       "2       RioMar Recife  35  39  26   0  103000.00  1458913         380   \n",
       "\n",
       "   LojasAncora  LojasMega  ALIMENTAÇÃO  CINEMA  Pisos  Capital  Renda  \\\n",
       "0           15         16           60      12      4        1   1664   \n",
       "1            6          1           18       4      1        0   1100   \n",
       "2           17         15           60       9      3        1    867   \n",
       "\n",
       "   MktShare  \n",
       "0     31.46  \n",
       "1     23.61  \n",
       "2     25.50  "
      ]
     },
     "execution_count": 106,
     "metadata": {},
     "output_type": "execute_result"
    }
   ],
   "source": [
    "Novos = pd.read_excel('entrada_novos_exemplo.xlsx')\n",
    "#Novos = pd.read_excel('entrada_novos.xlsx')\n",
    "\n",
    "Xnovos = Novos.values\n",
    "Novos.head()"
   ]
  },
  {
   "cell_type": "code",
   "execution_count": 108,
   "metadata": {},
   "outputs": [],
   "source": [
    "#XnovosStd = scaler.fit_transform(Xnovos)\n",
    "VolumePrevisto = model.predict(Xnovos)\n",
    "\n",
    "# apply a model to all rows of XnovosStd and put the value at a new column"
   ]
  },
  {
   "cell_type": "code",
   "execution_count": 109,
   "metadata": {},
   "outputs": [
    {
     "data": {
      "text/plain": [
       "array([25.45992641, 22.9206943 , 23.51731317])"
      ]
     },
     "execution_count": 109,
     "metadata": {},
     "output_type": "execute_result"
    }
   ],
   "source": [
    "VolumePrevisto"
   ]
  },
  {
   "cell_type": "code",
   "execution_count": 110,
   "metadata": {},
   "outputs": [],
   "source": [
    "Novos['VolumePrevisto'] = VolumePrevisto\n"
   ]
  },
  {
   "cell_type": "code",
   "execution_count": 116,
   "metadata": {},
   "outputs": [
    {
     "data": {
      "text/html": [
       "<div>\n",
       "<style scoped>\n",
       "    .dataframe tbody tr th:only-of-type {\n",
       "        vertical-align: middle;\n",
       "    }\n",
       "\n",
       "    .dataframe tbody tr th {\n",
       "        vertical-align: top;\n",
       "    }\n",
       "\n",
       "    .dataframe thead th {\n",
       "        text-align: right;\n",
       "    }\n",
       "</style>\n",
       "<table border=\"1\" class=\"dataframe\">\n",
       "  <thead>\n",
       "    <tr style=\"text-align: right;\">\n",
       "      <th></th>\n",
       "      <th>ID</th>\n",
       "      <th>A</th>\n",
       "      <th>B</th>\n",
       "      <th>C</th>\n",
       "      <th>D</th>\n",
       "      <th>ABL</th>\n",
       "      <th>Fluxo</th>\n",
       "      <th>LojasTotal</th>\n",
       "      <th>LojasAncora</th>\n",
       "      <th>LojasMega</th>\n",
       "      <th>ALIMENTAÇÃO</th>\n",
       "      <th>CINEMA</th>\n",
       "      <th>Pisos</th>\n",
       "      <th>Capital</th>\n",
       "      <th>Renda</th>\n",
       "      <th>MktShare</th>\n",
       "      <th>VolumePrevisto</th>\n",
       "    </tr>\n",
       "  </thead>\n",
       "  <tbody>\n",
       "    <tr>\n",
       "      <th>0</th>\n",
       "      <td>Iguatemi Fortaleza</td>\n",
       "      <td>20</td>\n",
       "      <td>50</td>\n",
       "      <td>15</td>\n",
       "      <td>15</td>\n",
       "      <td>93000.00</td>\n",
       "      <td>1458913</td>\n",
       "      <td>429</td>\n",
       "      <td>15</td>\n",
       "      <td>16</td>\n",
       "      <td>60</td>\n",
       "      <td>12</td>\n",
       "      <td>4</td>\n",
       "      <td>1</td>\n",
       "      <td>1664</td>\n",
       "      <td>31.46</td>\n",
       "      <td>25.459926</td>\n",
       "    </tr>\n",
       "    <tr>\n",
       "      <th>1</th>\n",
       "      <td>River Petrolina</td>\n",
       "      <td>5</td>\n",
       "      <td>50</td>\n",
       "      <td>40</td>\n",
       "      <td>5</td>\n",
       "      <td>27293.32</td>\n",
       "      <td>702737</td>\n",
       "      <td>70</td>\n",
       "      <td>6</td>\n",
       "      <td>1</td>\n",
       "      <td>18</td>\n",
       "      <td>4</td>\n",
       "      <td>1</td>\n",
       "      <td>0</td>\n",
       "      <td>1100</td>\n",
       "      <td>23.61</td>\n",
       "      <td>22.920694</td>\n",
       "    </tr>\n",
       "    <tr>\n",
       "      <th>2</th>\n",
       "      <td>RioMar Recife</td>\n",
       "      <td>35</td>\n",
       "      <td>39</td>\n",
       "      <td>26</td>\n",
       "      <td>0</td>\n",
       "      <td>103000.00</td>\n",
       "      <td>1458913</td>\n",
       "      <td>380</td>\n",
       "      <td>17</td>\n",
       "      <td>15</td>\n",
       "      <td>60</td>\n",
       "      <td>9</td>\n",
       "      <td>3</td>\n",
       "      <td>1</td>\n",
       "      <td>867</td>\n",
       "      <td>25.50</td>\n",
       "      <td>23.517313</td>\n",
       "    </tr>\n",
       "  </tbody>\n",
       "</table>\n",
       "</div>"
      ],
      "text/plain": [
       "                   ID   A   B   C   D        ABL    Fluxo  LojasTotal  \\\n",
       "0  Iguatemi Fortaleza  20  50  15  15   93000.00  1458913         429   \n",
       "1     River Petrolina   5  50  40   5   27293.32   702737          70   \n",
       "2       RioMar Recife  35  39  26   0  103000.00  1458913         380   \n",
       "\n",
       "   LojasAncora  LojasMega  ALIMENTAÇÃO  CINEMA  Pisos  Capital  Renda  \\\n",
       "0           15         16           60      12      4        1   1664   \n",
       "1            6          1           18       4      1        0   1100   \n",
       "2           17         15           60       9      3        1    867   \n",
       "\n",
       "   MktShare  VolumePrevisto  \n",
       "0     31.46       25.459926  \n",
       "1     23.61       22.920694  \n",
       "2     25.50       23.517313  "
      ]
     },
     "execution_count": 116,
     "metadata": {},
     "output_type": "execute_result"
    }
   ],
   "source": [
    "Novos"
   ]
  },
  {
   "cell_type": "markdown",
   "metadata": {},
   "source": [
    "### O Iguatemi Fortaleza teria um volume previsto de 28,7 Tb / mês\n"
   ]
  },
  {
   "cell_type": "code",
   "execution_count": 60,
   "metadata": {},
   "outputs": [],
   "source": [
    "Novos.to_excel('Resultado_rev0.xlsx', index=False)"
   ]
  },
  {
   "cell_type": "markdown",
   "metadata": {},
   "source": [
    "# **Próximos passos**\n",
    "----"
   ]
  },
  {
   "cell_type": "markdown",
   "metadata": {},
   "source": [
    "* Aumentar a quantidade de amostras.\n",
    "* Refinar os dados dos Shoppings.\n",
    "* Melhorar a estimativa de valor R$ / Mb pois a que temos é de 2019 e não sabemos como se chegou neste número. \n",
    "* O volume pode ser menor por restrições do ponte de vista de cobertura ou acesso. Uma forma de modelar essas questões seria incluir as features abaixo:\n",
    "    - Quantidade de antenas, com isso podemos modelar os shopping pela relação ABL / quant de antenas \n",
    "    - Quantidade de Layers 4G\n",
    "\n"
   ]
  },
  {
   "cell_type": "markdown",
   "metadata": {},
   "source": [
    "* 1 TB ~ R$ 2mil reais de Faturamento"
   ]
  }
 ],
 "metadata": {
  "kernelspec": {
   "display_name": "clusters",
   "language": "python",
   "name": "python3"
  },
  "language_info": {
   "codemirror_mode": {
    "name": "ipython",
    "version": 3
   },
   "file_extension": ".py",
   "mimetype": "text/x-python",
   "name": "python",
   "nbconvert_exporter": "python",
   "pygments_lexer": "ipython3",
   "version": "3.10.12"
  }
 },
 "nbformat": 4,
 "nbformat_minor": 2
}
